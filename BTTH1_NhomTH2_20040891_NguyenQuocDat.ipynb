{
  "cells": [
    {
      "cell_type": "markdown",
      "metadata": {
        "id": "view-in-github",
        "colab_type": "text"
      },
      "source": [
        "<a href=\"https://colab.research.google.com/github/quocdatpk0002/pthtth/blob/Tuan1/BTTH1_NhomTH2_20040891_NguyenQuocDat.ipynb\" target=\"_parent\"><img src=\"https://colab.research.google.com/assets/colab-badge.svg\" alt=\"Open In Colab\"/></a>"
      ]
    },
    {
      "cell_type": "markdown",
      "metadata": {
        "id": "wRgo9hW3jjW3"
      },
      "source": [
        "# Họ và tên: Nguyễn Quốc Đạt\n",
        "# MSSV:20040891\n",
        "# Lớp học phần - Nhóm TH: 2"
      ]
    },
    {
      "cell_type": "markdown",
      "metadata": {
        "id": "4PJi05HjjjW5"
      },
      "source": [
        "# 1. Hello world!"
      ]
    },
    {
      "cell_type": "code",
      "execution_count": null,
      "metadata": {
        "id": "ZcoIxNtsjjW5",
        "outputId": "69b6fc22-5e38-49ec-e8a7-29ad1cb9f81a"
      },
      "outputs": [
        {
          "name": "stdout",
          "output_type": "stream",
          "text": [
            "Hello Dat\n"
          ]
        }
      ],
      "source": [
        "print(\"Hello Dat\")"
      ]
    },
    {
      "cell_type": "markdown",
      "metadata": {
        "id": "_C1AF-ljjjW6"
      },
      "source": [
        "# 2. Program to Add Two Numbers"
      ]
    },
    {
      "cell_type": "markdown",
      "metadata": {
        "id": "n53GSVH3jjW7"
      },
      "source": [
        "## Add Two Numbers"
      ]
    },
    {
      "cell_type": "code",
      "execution_count": null,
      "metadata": {
        "id": "1-ZDXW4XjjW7",
        "outputId": "59f17dbc-77ff-444c-f6af-7f4e59254868"
      },
      "outputs": [
        {
          "name": "stdout",
          "output_type": "stream",
          "text": [
            "tong= 7.8\n"
          ]
        }
      ],
      "source": [
        "num1 = 1.5\n",
        "num2 = 6.3\n",
        "\n",
        "### START CODE HERE ###\n",
        "# Add two numbers\n",
        "\n",
        "sum = num1 + num2\n",
        "\n",
        "# Display the sum\n",
        "print(\"tong=\",sum)"
      ]
    },
    {
      "cell_type": "markdown",
      "metadata": {
        "id": "fj-0bMkQjjW7"
      },
      "source": [
        "##  Add Two Numbers With User Input"
      ]
    },
    {
      "cell_type": "code",
      "execution_count": null,
      "metadata": {
        "colab": {
          "base_uri": "https://localhost:8080/"
        },
        "id": "cJTHbUuMjjW7",
        "outputId": "08a4e8bf-6158-4f0e-c594-9c4a31e3b080"
      },
      "outputs": [
        {
          "output_type": "stream",
          "name": "stdout",
          "text": [
            "Nhập số thứ nhất: 3\n",
            "Nhập số thứ hai: 5\n",
            "Tổng hai số là: 8.0\n"
          ]
        }
      ],
      "source": [
        "# Store input numbers\n",
        "num1 = float(input(\"Nhập số thứ nhất: \"))\n",
        "num2 = float(input(\"Nhập số thứ hai: \"))\n",
        "### START CODE HERE ###\n",
        "\n",
        "# Add two numbers\n",
        "sum = num1 + num2\n",
        "\n",
        "### END CODE HERE ###\n",
        "\n",
        "# Display the sum\n",
        "print(\"Tổng hai số là:\", sum)"
      ]
    },
    {
      "cell_type": "markdown",
      "metadata": {
        "id": "YqLjjjjrjjW7"
      },
      "source": [
        "# 3. Program to Find the Square Root"
      ]
    },
    {
      "cell_type": "code",
      "execution_count": null,
      "metadata": {
        "id": "2N-0G-L1jjW8",
        "outputId": "f4c35f2e-fd10-4934-d895-2cfb71f7752f"
      },
      "outputs": [
        {
          "name": "stdout",
          "output_type": "stream",
          "text": [
            "Căn bậc 2 của 8 là 2.8284271247461903\n"
          ]
        }
      ],
      "source": [
        "# Python Program to calculate the square root\n",
        "def square_root(num):\n",
        "  \"\"\"Tính căn bậc 2 của 1 số\"\"\"\n",
        "  sqrt = num ** 0.5\n",
        "  return sqrt\n",
        "# Note: change this value for a different result\n",
        "num = 8\n",
        "\n",
        "# To take the input from the user\n",
        "#num = float(input('Enter a number: '))\n",
        "\n",
        "# calculate the square root\n",
        "sqrt = square_root(num)\n",
        "\n",
        "# print the value of the square root\n",
        "\n",
        "print(\"Căn bậc 2 của\", num, \"là\", sqrt)"
      ]
    },
    {
      "cell_type": "markdown",
      "metadata": {
        "id": "yW8uhkCRjjW8"
      },
      "source": [
        "# 4. Program to Calculate the Area of a Triangle\n",
        "s = (a+b+c)/2\n",
        "\n",
        "area = √(s(s-a)*(s-b)*(s-c))"
      ]
    },
    {
      "cell_type": "code",
      "execution_count": null,
      "metadata": {
        "colab": {
          "base_uri": "https://localhost:8080/"
        },
        "id": "GdcaUf_qjjW8",
        "outputId": "4f6cdc82-b44b-4252-a60e-63f9a6e3eec6"
      },
      "outputs": [
        {
          "output_type": "stream",
          "name": "stdout",
          "text": [
            "Enter the length of side a: 5\n",
            "Enter the length of side b: 6\n",
            "Enter the length of side c: 2\n",
            "The area of the triangle is 4.68\n"
          ]
        }
      ],
      "source": [
        "import math\n",
        "\n",
        "### START CODE HERE ###\n",
        "\n",
        "# take inputs from the user\n",
        "a = float(input(\"Enter the length of side a: \"))\n",
        "b = float(input(\"Enter the length of side b: \"))\n",
        "c = float(input(\"Enter the length of side c: \"))\n",
        "\n",
        "# calculate the semi-perimeter\n",
        "s = (a + b + c) / 2\n",
        "\n",
        "# calculate the area\n",
        "area = math.sqrt(s * (s - a) * (s - b) * (s - c))\n",
        "\n",
        "### END CODE HERE ###\n",
        "\n",
        "print('The area of the triangle is %0.2f' %area)"
      ]
    },
    {
      "cell_type": "markdown",
      "metadata": {
        "id": "LCSx_2tIjjW8"
      },
      "source": [
        "# 5. Program to Solve Quadratic Equation\n",
        "ax2 + bx + c = 0, where a, b and c are real numbers and a ≠ 0"
      ]
    },
    {
      "cell_type": "code",
      "execution_count": null,
      "metadata": {
        "colab": {
          "base_uri": "https://localhost:8080/"
        },
        "id": "puHcpEptjjW8",
        "outputId": "3e2eb83a-6fc8-4c60-b5f0-1ac5fb402647"
      },
      "outputs": [
        {
          "output_type": "stream",
          "name": "stdout",
          "text": [
            "Enter the value of a (a ≠ 0): 4\n",
            "Enter the value of b: 3\n",
            "Enter the value of c: 2\n",
            "The solutions are (-0.375+0.5994789404140899j) and (-0.375-0.5994789404140899j)\n"
          ]
        }
      ],
      "source": [
        "### START CODE HERE ###\n",
        "\n",
        "# take inputs from the user\n",
        "a = float(input(\"Enter the value of a (a ≠ 0): \"))\n",
        "b = float(input(\"Enter the value of b: \"))\n",
        "c = float(input(\"Enter the value of c: \"))\n",
        "\n",
        "# make sure a is not zero\n",
        "if a == 0:\n",
        "    print(\"a should not be zero. Please enter a valid value.\")\n",
        "else:\n",
        "    # calculate the discriminant\n",
        "    d = cmath.sqrt(b**2 - 4*a*c)\n",
        "\n",
        "    # find two solutions using square root for real/complex number\n",
        "    sol1 = (-b + d) / (2 * a)\n",
        "    sol2 = (-b - d) / (2 * a)\n",
        "\n",
        "    ### END CODE HERE ###\n",
        "\n",
        "    print('The solutions are {0} and {1}'.format(sol1, sol2))"
      ]
    },
    {
      "cell_type": "markdown",
      "metadata": {
        "id": "JrALUrqujjW9"
      },
      "source": [
        "# 6. Program to Swap Two Variables"
      ]
    },
    {
      "cell_type": "code",
      "execution_count": null,
      "metadata": {
        "colab": {
          "base_uri": "https://localhost:8080/"
        },
        "id": "TjIxax2xjjW9",
        "outputId": "256fee0f-7046-4ad9-f452-ebbf0d66c48f"
      },
      "outputs": [
        {
          "output_type": "stream",
          "name": "stdout",
          "text": [
            "Nhập giá trị của biến x: 5\n",
            "Nhập giá trị của biến y: 7\n",
            "Sau khi hoán đổi, giá trị của x là 7 và giá trị của y là 5\n"
          ]
        }
      ],
      "source": [
        "# To take inputs from the user\n",
        "x = int(input(\"Nhập giá trị của biến x: \"))\n",
        "y = int(input(\"Nhập giá trị của biến y: \"))\n",
        "\n",
        "# create a temporary variable and swap the values\n",
        "temp = x\n",
        "x = y\n",
        "y = temp\n",
        "# Print the c=value of x, y after swapping\n",
        "print(f\"Sau khi hoán đổi, giá trị của x là {x} và giá trị của y là {y}\")\n"
      ]
    },
    {
      "cell_type": "code",
      "execution_count": null,
      "metadata": {
        "colab": {
          "base_uri": "https://localhost:8080/"
        },
        "id": "B2HvfYy0jjW9",
        "outputId": "6c5a0794-0231-4519-b928-90ac98459e70"
      },
      "outputs": [
        {
          "output_type": "stream",
          "name": "stdout",
          "text": [
            "Địa chỉ của biến x là 135804794798512\n",
            "Địa chỉ của biến y là 135804794798448\n",
            "Địa chỉ của biến temp là 135804794798448\n"
          ]
        }
      ],
      "source": [
        "### START CODE HERE ###\n",
        "# writing code to get the address (in RAM) of x, y, temp through the built-in function id()\n",
        "address_x = id(x)\n",
        "address_y = id(y)\n",
        "address_temp = id(temp)\n",
        "### END CODE HERE ###\n",
        "print(f\"Địa chỉ của biến x là {address_x}\")\n",
        "print(f\"Địa chỉ của biến y là {address_y}\")\n",
        "print(f\"Địa chỉ của biến temp là {address_temp}\")"
      ]
    },
    {
      "cell_type": "markdown",
      "metadata": {
        "id": "KF7H84rfjjW9"
      },
      "source": [
        "# 7. Program to Generate a Random Number\n",
        "https://docs.python.org/3/library/random.html"
      ]
    },
    {
      "cell_type": "code",
      "execution_count": null,
      "metadata": {
        "colab": {
          "base_uri": "https://localhost:8080/"
        },
        "id": "91I3cx-WjjW9",
        "outputId": "002ecacf-a5e5-440e-e101-2349fe17570b"
      },
      "outputs": [
        {
          "output_type": "stream",
          "name": "stdout",
          "text": [
            "4\n",
            "7\n",
            "4\n",
            "0.07740292190936215\n",
            "5.646492321139206\n"
          ]
        }
      ],
      "source": [
        "# Program to generate a random number between 0 and 9\n",
        "\n",
        "# importing the random module\n",
        "import random\n",
        "\n",
        "print(random.randint(0,9))\n",
        "\n",
        "# Uncomment to try different function in random module\n",
        "print(random.randrange(9))\n",
        "print(random.randrange(3,9))\n",
        "print(random.random())\n",
        "print(random.uniform(a,b))"
      ]
    },
    {
      "cell_type": "markdown",
      "metadata": {
        "id": "gVM7euk-jjW-"
      },
      "source": [
        "# 8. Program to Convert Kilometers to Miles\n",
        "1 km = (1/1.609344) mi = 0.62137119 mi"
      ]
    },
    {
      "cell_type": "code",
      "execution_count": null,
      "metadata": {
        "colab": {
          "base_uri": "https://localhost:8080/"
        },
        "id": "i8b4jDqtjjW-",
        "outputId": "879125fa-cc48-4f51-e8a3-c326b14dc423"
      },
      "outputs": [
        {
          "output_type": "stream",
          "name": "stdout",
          "text": [
            "Enter value in kilometers: 5\n",
            "5.00 kilometers is equal to 3.11 miles\n"
          ]
        }
      ],
      "source": [
        "# Taking kilometers input from the user\n",
        "kilometers = float(input(\"Enter value in kilometers: \"))\n",
        "\n",
        "# conversion factor\n",
        "conv_fac = 0.621371\n",
        "\n",
        "# calculate miles\n",
        "miles = kilometers * conv_fac\n",
        "print('%0.2f kilometers is equal to %0.2f miles' %(kilometers,miles))"
      ]
    },
    {
      "cell_type": "code",
      "execution_count": null,
      "metadata": {
        "colab": {
          "base_uri": "https://localhost:8080/"
        },
        "id": "AdXEQ8CVjjW-",
        "outputId": "2c2812c6-2fce-4c5d-d74f-3f00df1049b1"
      },
      "outputs": [
        {
          "output_type": "stream",
          "name": "stdout",
          "text": [
            "Enter distance in miles: 3.11\n",
            "3.11 miles is equal to 5.00505984 kilometers\n"
          ]
        }
      ],
      "source": [
        "### START CODE HERE ###\n",
        "# writing code to convert miles to kilometers\n",
        "\n",
        "# Take input from the user\n",
        "miles = float(input(\"Enter distance in miles: \"))\n",
        "\n",
        "# Convert miles to kilometers\n",
        "kilometers = miles * 1.609344\n",
        "\n",
        "# Print the result\n",
        "print(f\"{miles} miles is equal to {kilometers} kilometers\")\n",
        "\n",
        "### END CODE HERE ###"
      ]
    },
    {
      "cell_type": "markdown",
      "metadata": {
        "id": "qCIaYCoGjjW-"
      },
      "source": [
        "# 9. Program to Convert Celsius To Fahrenheit\n",
        "T(°F) = T(°C) × 1.8 + 32"
      ]
    },
    {
      "cell_type": "code",
      "execution_count": null,
      "metadata": {
        "colab": {
          "base_uri": "https://localhost:8080/"
        },
        "id": "Xj6CFdyrjjW-",
        "outputId": "4d49ddb7-a1e1-4d88-dade-ec8042d25772"
      },
      "outputs": [
        {
          "output_type": "stream",
          "name": "stdout",
          "text": [
            "Nhập độ Celsius: 25\n",
            "25.0 độ Celsius tương đương với 77.0 độ Fahrenheit.\n"
          ]
        }
      ],
      "source": [
        "### START CODE HERE ###\n",
        "# Taking celsius input from the user\n",
        "celsius = float(input(\"Nhập độ Celsius: \"))\n",
        "\n",
        "# conversion factor\n",
        "\n",
        "fahrenheit = celsius * 1.8 + 32\n",
        "# calculate Fahrenheit\n",
        "\n",
        "\n",
        "# print result\n",
        "print(f\"{celsius} độ Celsius tương đương với {fahrenheit} độ Fahrenheit.\")\n",
        "### END CODE HERE ###"
      ]
    }
  ],
  "metadata": {
    "kernelspec": {
      "display_name": "Python 3",
      "language": "python",
      "name": "python3"
    },
    "language_info": {
      "codemirror_mode": {
        "name": "ipython",
        "version": 3
      },
      "file_extension": ".py",
      "mimetype": "text/x-python",
      "name": "python",
      "nbconvert_exporter": "python",
      "pygments_lexer": "ipython3",
      "version": "3.11.5"
    },
    "colab": {
      "provenance": [],
      "include_colab_link": true
    }
  },
  "nbformat": 4,
  "nbformat_minor": 0
}