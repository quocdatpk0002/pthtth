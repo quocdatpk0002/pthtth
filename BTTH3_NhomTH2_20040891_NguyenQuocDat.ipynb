{
  "cells": [
    {
      "cell_type": "markdown",
      "metadata": {
        "id": "view-in-github",
        "colab_type": "text"
      },
      "source": [
        "<a href=\"https://colab.research.google.com/github/quocdatpk0002/pthtth/blob/Tuan3/BTTH3_NhomTH2_20040891_NguyenQuocDat.ipynb\" target=\"_parent\"><img src=\"https://colab.research.google.com/assets/colab-badge.svg\" alt=\"Open In Colab\"/></a>"
      ]
    },
    {
      "cell_type": "markdown",
      "metadata": {
        "id": "B4h7jecyi8ZZ"
      },
      "source": [
        "# 1. Hiển thị tên máy hiện tại, sử dụng hàm gethostname()"
      ]
    },
    {
      "cell_type": "code",
      "execution_count": null,
      "metadata": {
        "colab": {
          "base_uri": "https://localhost:8080/"
        },
        "id": "3mhvFkpgi8Zc",
        "outputId": "05e8c0ac-8c68-48da-88e0-33a65d6d96d7"
      },
      "outputs": [
        {
          "output_type": "stream",
          "name": "stdout",
          "text": [
            "Host name: e8100e67bbb3\n"
          ]
        }
      ],
      "source": [
        "import socket\n",
        "\n",
        "# Lấy tên máy tính\n",
        "host_name = socket.gethostname()\n",
        "\n",
        "# In tên máy tính ra màn hình\n",
        "print(\"Host name:\", host_name)"
      ]
    },
    {
      "cell_type": "markdown",
      "metadata": {
        "id": "F4ugwoITi8Ze"
      },
      "source": [
        "# 2. Hiển thị đc IP của máy đang sử dụng, sử dụng hàm gethostbyname(tenmay)"
      ]
    },
    {
      "cell_type": "code",
      "execution_count": null,
      "metadata": {
        "colab": {
          "base_uri": "https://localhost:8080/"
        },
        "id": "j4bbU8Kli8Ze",
        "outputId": "02420281-0728-498c-bb16-2107ec16c2a5"
      },
      "outputs": [
        {
          "output_type": "stream",
          "name": "stdout",
          "text": [
            "IP address of e8100e67bbb3 is 172.28.0.12\n"
          ]
        }
      ],
      "source": [
        "import socket\n",
        "\n",
        "# Lấy tên máy tính\n",
        "host_name = socket.gethostname()\n",
        "\n",
        "# Lấy địa chỉ IP tương ứng với tên máy tính\n",
        "ip_address = socket.gethostbyname(host_name)\n",
        "\n",
        "# In thông tin ra màn hình\n",
        "print(\"IP address of \" + host_name + \" is \" + ip_address)"
      ]
    },
    {
      "cell_type": "markdown",
      "metadata": {
        "id": "dtKSw-kKi8Ze"
      },
      "source": [
        "# 3. Viết đoạn script cho phép người dùng lấy địa chỉ IP của máy hiện tại"
      ]
    },
    {
      "cell_type": "code",
      "execution_count": null,
      "metadata": {
        "colab": {
          "base_uri": "https://localhost:8080/",
          "height": 53
        },
        "id": "gQRjJVDWi8Ze",
        "outputId": "53f40554-52d3-4601-9d64-a295fd334740"
      },
      "outputs": [
        {
          "output_type": "stream",
          "name": "stdout",
          "text": [
            "IP address of e8100e67bbb3 is 172.28.0.12\n"
          ]
        },
        {
          "output_type": "execute_result",
          "data": {
            "text/plain": [
              "'172.28.0.12'"
            ],
            "application/vnd.google.colaboratory.intrinsic+json": {
              "type": "string"
            }
          },
          "metadata": {},
          "execution_count": 6
        }
      ],
      "source": [
        "import socket\n",
        "\n",
        "def get_current_ip_address():\n",
        "    try:\n",
        "        # Lấy tên máy tính\n",
        "        host_name = socket.gethostname()\n",
        "\n",
        "        # Lấy địa chỉ IP tương ứng với tên máy tính\n",
        "        ip_address = socket.gethostbyname(host_name)\n",
        "\n",
        "        # In thông tin ra màn hình\n",
        "        print(\"IP address of \" + host_name + \" is \" + ip_address)\n",
        "        return ip_address\n",
        "\n",
        "    except Exception as e:\n",
        "        print(\"An error occurred:\", str(e))\n",
        "        return None\n",
        "\n",
        "# Gọi hàm để lấy và in địa chỉ IP\n",
        "get_current_ip_address()"
      ]
    },
    {
      "cell_type": "markdown",
      "metadata": {
        "id": "7ysWXxwKi8Ze"
      },
      "source": [
        "# 4. Truy vấn địa chỉ IP ở xa\n",
        "Khi một thiết bị kết nối vào mạng Internet muốn trao đổi thông tin với các thiết bị khác trong mạng, thiết bị đó cần được cấp một đcIP xác định và phải biết được đcIP của thiết bị mình cần tương tác.\n",
        "\n",
        "Vậy làm cách nào bạn có thể dịch tên của host_name thành đcIP?\n",
        "\n",
        "Vd: muốn biết đcIP của tuoitre.vn hoặc google.com -> gethostbyname()"
      ]
    },
    {
      "cell_type": "code",
      "execution_count": null,
      "metadata": {
        "colab": {
          "base_uri": "https://localhost:8080/",
          "height": 70
        },
        "id": "4qbdUJDai8Zf",
        "outputId": "9c375b0d-b84c-41fa-f6b2-1ffd1212784d"
      },
      "outputs": [
        {
          "output_type": "stream",
          "name": "stdout",
          "text": [
            "IP address of tuoitre.vn is 14.225.199.147\n",
            "IP address of google.com is 108.177.120.102\n"
          ]
        },
        {
          "output_type": "execute_result",
          "data": {
            "text/plain": [
              "'108.177.120.102'"
            ],
            "application/vnd.google.colaboratory.intrinsic+json": {
              "type": "string"
            }
          },
          "metadata": {},
          "execution_count": 7
        }
      ],
      "source": [
        "### START CODE HERE ###\n",
        "import socket\n",
        "\n",
        "def query_remote_ip_address(host_name):\n",
        "    try:\n",
        "        # Lấy địa chỉ IP tương ứng với tên miền\n",
        "        ip_address = socket.gethostbyname(host_name)\n",
        "\n",
        "        # In thông tin ra màn hình\n",
        "        print(\"IP address of \" + host_name + \" is \" + ip_address)\n",
        "        return ip_address\n",
        "    except Exception as e:\n",
        "        print(\"An error occurred:\", str(e))\n",
        "        return None\n",
        "\n",
        "# Gọi hàm để lấy và in địa chỉ IP của tuoitre.vn\n",
        "query_remote_ip_address(\"tuoitre.vn\")\n",
        "\n",
        "# Gọi hàm để lấy và in địa chỉ IP của google.com\n",
        "query_remote_ip_address(\"google.com\")"
      ]
    },
    {
      "cell_type": "markdown",
      "metadata": {
        "id": "08-5UBEji8Zf"
      },
      "source": [
        "# 5. Chuyển đc IPv4 sang định dạng khác\n",
        "Địa chỉ IPv4 là một dãy số nhị phân 32-bit. Tuy nhiên, để thuận tiện cho người dùng, thông thường nó được thể hiển theo dạng chuỗi bao gồm 4 octet cách nhau bởi dấu (.) chấm (Vd: 192.168.0.1)\n",
        "\n",
        "Trường hợp ký hiệu địa chỉ IP (dạng X.X.X.X)không phù hợp với các xử lý trong lập trình, khi đó chúng cần được chuyển đổi sang các định dạng nhị phân 32 bit."
      ]
    },
    {
      "cell_type": "code",
      "execution_count": null,
      "metadata": {
        "colab": {
          "base_uri": "https://localhost:8080/"
        },
        "id": "SkZUY6IRi8Zf",
        "outputId": "758870f2-08e7-4684-8c34-5b01c098e28f"
      },
      "outputs": [
        {
          "output_type": "stream",
          "name": "stdout",
          "text": [
            "Địa chỉ IP 192.168.10.1 trong dạng nhị phân 32-bit là c0a80a01\n",
            "Địa chỉ IP 255.255.255.256 không hợp lệ\n"
          ]
        }
      ],
      "source": [
        "import socket\n",
        "\n",
        "def ip_to_binary(ip_address):\n",
        "    try:\n",
        "        # Chuyển đổi địa chỉ IP sang dạng nhị phân 32-bit\n",
        "        binary_ip = socket.inet_aton(ip_address)\n",
        "        return f\"Địa chỉ IP {ip_address} trong dạng nhị phân 32-bit là {binary_ip.hex()}\"\n",
        "    except socket.error:\n",
        "        return f\"Địa chỉ IP {ip_address} không hợp lệ\"\n",
        "\n",
        "# Ví dụ sử dụng\n",
        "print(ip_to_binary(\"192.168.10.1\"))\n",
        "print(ip_to_binary(\"255.255.255.256\"))  # Địa chỉ IP không hợp lệ"
      ]
    },
    {
      "cell_type": "markdown",
      "metadata": {
        "id": "JP46LSdKi8Zf"
      },
      "source": [
        "# 6. Sinh viên hãy cho biết kết quả của 2 câu lệnh dưới đây\n",
        "import socket\n",
        "\n",
        "help(socket.inet_ntoa)"
      ]
    },
    {
      "cell_type": "code",
      "execution_count": null,
      "metadata": {
        "id": "vg4ond8li8Zg"
      },
      "outputs": [],
      "source": [
        "#Sinh viên ghi kết qủa\n"
      ]
    },
    {
      "cell_type": "code",
      "execution_count": null,
      "metadata": {
        "colab": {
          "base_uri": "https://localhost:8080/"
        },
        "id": "N1AFJ2RDi8Zg",
        "outputId": "5c3653e9-1016-414e-c571-7e27b624e881"
      },
      "outputs": [
        {
          "output_type": "stream",
          "name": "stdout",
          "text": [
            "Memory address of x: 138195254247952\n",
            "Memory address of y: 138195254248272\n",
            "Memory address of temp: 138194963920432\n"
          ]
        }
      ],
      "source": [
        "### START CODE HERE ###\n",
        "\n",
        "# Create variables x, y, and temp\n",
        "x = 10\n",
        "y = 20\n",
        "temp = \"hello\"\n",
        "\n",
        "# Get the memory address of each variable using id()\n",
        "address_x = id(x)\n",
        "address_y = id(y)\n",
        "address_temp = id(temp)\n",
        "\n",
        "# Print the memory addresses\n",
        "print(f\"Memory address of x: {address_x}\")\n",
        "print(f\"Memory address of y: {address_y}\")\n",
        "print(f\"Memory address of temp: {address_temp}\")\n",
        "\n",
        "### END CODE HERE ###"
      ]
    },
    {
      "cell_type": "markdown",
      "metadata": {
        "id": "9TdbxGmri8Zg"
      },
      "source": [
        "# 7. Sinh viên hãy cho biết kết quả của 2 câu lệnh dưới đây:\n",
        "\n",
        "![image.png](attachment:image.png)"
      ]
    },
    {
      "cell_type": "code",
      "execution_count": null,
      "metadata": {
        "id": "uFNlvaZui8Zg",
        "colab": {
          "base_uri": "https://localhost:8080/"
        },
        "outputId": "e4b4072c-c9c5-4f54-a373-afc669ecba95"
      },
      "outputs": [
        {
          "output_type": "stream",
          "name": "stdout",
          "text": [
            "IP Address: 127.0.0.1 => Packed: b'7f000001', Unpacked: 127.0.0.1\n",
            "IP Address: 192.168.0.1 => Packed: b'c0a80001', Unpacked: 192.168.0.1\n"
          ]
        }
      ],
      "source": [
        "#  Start Code HERE\n",
        "import socket\n",
        "from binascii import hexlify\n",
        "def convert_ip4_address():\n",
        "    for ip_addr in['127.0.0.1', '192.168.0.1']:\n",
        "        packed_ip_addr = socket.inet_aton(ip_addr)\n",
        "        unpacked_ip_addr = socket.inet_ntoa(packed_ip_addr)\n",
        "        print(\"IP Address: %s => Packed: %s, Unpacked: %s\" %(ip_addr, hexlify(packed_ip_addr), unpacked_ip_addr))\n",
        "\n",
        "if __name__ == '__main__':\n",
        "    convert_ip4_address()\n",
        "\n",
        "# Write Result HERE\n",
        "#IP Address: 127.0.0.1 => Packed: b'7f000001', Unpacked: 127.0.0.1\n",
        "#IP Address: 192.168.0.1 => Packed: b'c0a80001', Unpacked: 192.168.0.1"
      ]
    },
    {
      "cell_type": "markdown",
      "metadata": {
        "id": "iRPAVmogi8Zh"
      },
      "source": [
        "# 8. ICMP Echo Request\n",
        "ICMP Echo Request được biết đến bằng cách sử dụng lệnh ping. Gói ICMP được gửi đến máy chủ bằng địa chỉ IP và trả về kết quả thông qua trường TYPE. Dựa vào giá trị của TYPE để xác định tình trạng của máy chủ hiện tại.\n",
        "\n",
        "Một số giá trị của TYPE:\n",
        "\n",
        "0: Echo Reply\n",
        "\n",
        "2: No response\n",
        "\n",
        "...\n",
        "\n",
        "Sinh viên thực hoàn thành đoạn code sau và cho biết kết quả\n",
        "\n",
        "![image.png](attachment:image.png)"
      ]
    },
    {
      "cell_type": "code",
      "execution_count": null,
      "metadata": {
        "id": "Jim5n9Pmi8Zh",
        "colab": {
          "base_uri": "https://localhost:8080/"
        },
        "outputId": "30bb1026-9e82-4bb7-f38b-7f4240460089"
      },
      "outputs": [
        {
          "output_type": "stream",
          "name": "stdout",
          "text": [
            "Type value: 0\n",
            "Ping to www.google.com OK\n"
          ]
        }
      ],
      "source": [
        "import subprocess\n",
        "\n",
        "address = \"www.google.com\"\n",
        "res = subprocess.call(['ping', '-c', '4', address])  # Thêm '-c' để chỉ định số gói tin ping\n",
        "\n",
        "print(\"Type value:\", str(res))\n",
        "\n",
        "if res == 0:\n",
        "    print(\"Ping to\", address, \"OK\")\n",
        "elif res == 2:\n",
        "    print(\"No response from\", address)\n",
        "else:\n",
        "    print(\"Ping to\", address, \"failed!\")\n"
      ]
    },
    {
      "cell_type": "code",
      "source": [
        "!apt-get install iputils-ping"
      ],
      "metadata": {
        "colab": {
          "base_uri": "https://localhost:8080/"
        },
        "id": "e5HqpTcCtXba",
        "outputId": "67eb3808-3404-4033-f048-b528307c3069"
      },
      "execution_count": null,
      "outputs": [
        {
          "output_type": "stream",
          "name": "stdout",
          "text": [
            "Reading package lists... Done\n",
            "Building dependency tree... Done\n",
            "Reading state information... Done\n",
            "The following NEW packages will be installed:\n",
            "  iputils-ping\n",
            "0 upgraded, 1 newly installed, 0 to remove and 18 not upgraded.\n",
            "Need to get 42.9 kB of archives.\n",
            "After this operation, 116 kB of additional disk space will be used.\n",
            "Get:1 http://archive.ubuntu.com/ubuntu jammy/main amd64 iputils-ping amd64 3:20211215-1 [42.9 kB]\n",
            "Fetched 42.9 kB in 1s (80.7 kB/s)\n",
            "Selecting previously unselected package iputils-ping.\n",
            "(Reading database ... 120895 files and directories currently installed.)\n",
            "Preparing to unpack .../iputils-ping_3%3a20211215-1_amd64.deb ...\n",
            "Unpacking iputils-ping (3:20211215-1) ...\n",
            "Setting up iputils-ping (3:20211215-1) ...\n",
            "Processing triggers for man-db (2.10.2-1) ...\n"
          ]
        }
      ]
    },
    {
      "cell_type": "markdown",
      "metadata": {
        "id": "YJHyGVfHi8Zh"
      },
      "source": [
        "# BÀI TẬP\n",
        "Bài 1: Hãy thực thi câu lệnh sau và cho biết kết quả:\n",
        "\n",
        "a)\n",
        "\n",
        "import socket\n",
        "\n",
        "help(socket.gethostname)\n",
        "\n",
        "b)\n",
        "\n",
        "import socket\n",
        "\n",
        "help(socket.gethostbyname)\n",
        "\n",
        "Bài 2: Sinh viên hãy thực hiện lại thí dụ 4, với Input hostname nhập vào là 255.255.255.256, hãy giải thích kết quả nhận được.  \n",
        "\n",
        "Bài 3: Hãy cải tiến thí dụ 4 bằng cách sử dụng vòng lặp cho phép người dùng liên tục nhập hostname và in ra địa chỉ IP, vòng lặp chỉ kết thúc khi người dùng nhập phím Q.\n",
        "\n",
        "Bài 4: Trong thí dụ 8, có sử dụng hàm subprocess, sinh viên hãy tìm hiểu và trình bày hàm subprocess, có giải thích và thí dụ minh họa.\n"
      ]
    },
    {
      "cell_type": "code",
      "execution_count": null,
      "metadata": {
        "id": "A8FOKKA_i8Zh"
      },
      "outputs": [],
      "source": [
        "### START CODE HERE ###\n",
        "#Bài 1 )\n",
        "# a)\n",
        "import socket\n",
        "help(socket.gethostname)\n",
        "#RESULT\n",
        "#   Help on built-in function gethostname in module _socket:\n",
        "#   gethostname(...)\n",
        "#   gethostname() -> string\n",
        "#   Return the current host name.\n",
        "\n",
        "# b)\n",
        "import socket\n",
        "help(socket.gethostbyname)\n",
        "#RESULT\n",
        "#   Help on built-in function gethostbyname in module _socket:\n",
        "#   gethostbyname(...)\n",
        "#   gethostbyname(host) -> address\n",
        "#    Return the IP address (a string of the form '255.255.255.255') for a host.\n",
        "\n",
        "#Bài 2 )\n",
        "import socket\n",
        "\n",
        "def query_ip_address(host_name):\n",
        "    try:\n",
        "        # Truy vấn địa chỉ IP từ tên của host\n",
        "        ip_address = socket.gethostbyname(host_name)\n",
        "        return f\"Địa chỉ IP của {host_name} là {ip_address}\"\n",
        "    except socket.gaierror:\n",
        "        return f\"Không thể truy vấn địa chỉ IP của {host_name}\"\n",
        "\n",
        "# Ví dụ sử dụng\n",
        "print(query_ip_address(\"255.255.255.256\"))\n",
        "#Kết quả: Không thể truy vấn địa chỉ IP của 255.255.255.256\n",
        "\n",
        "#Giải thích: Giá trị \"255.255.255.256\" không phải là một địa chỉ IP hợp lệ do giá trị của một octet (byte) trong IPv4\n",
        "#chỉ có thể nằm trong phạm vi từ 0 đến 255. Hơn nữa, hàm gethostbyname cố gắng tìm địa chỉ IP tương ứng\n",
        "#với một hostname (tên máy chủ), và \"255.255.255.256\" không phải là một hostname hợp lệ.\n",
        "#Do đó, hàm sẽ không trả về địa chỉ IP và thể hiện lỗi bắt bởi socket.gaierror trong khối except.\n",
        "\n",
        "\n",
        "#Bài 3 )\n",
        "import socket\n",
        "\n",
        "def query_ip_address(host_name):\n",
        "    try:\n",
        "        # Truy vấn địa chỉ IP từ tên của host\n",
        "        ip_address = socket.gethostbyname(host_name)\n",
        "        return f\"Địa chỉ IP của {host_name} là {ip_address}\"\n",
        "    except socket.gaierror:\n",
        "        return f\"Không thể truy vấn địa chỉ IP của {host_name}\"\n",
        "\n",
        "# Vòng lặp để cho phép người dùng liên tục nhập hostname\n",
        "while True:\n",
        "    host_name = input(\"Vui lòng nhập hostname (hoặc nhập 'Q' để thoát): \")\n",
        "\n",
        "    if host_name.upper() == 'Q':\n",
        "        print(\"Chương trình kết thúc. Tạm biệt!\")\n",
        "        break\n",
        "\n",
        "    print(query_ip_address(host_name))\n",
        "\n",
        "\n",
        "#Bài 4 )\n",
        "\n",
        "#Module subprocess trong Python được dùng để chạy và tương tác với các process con, cho phép chạy các lệnh shell và lấy kết quả trả về.\n",
        "#Phương thức chính:\n",
        "#subprocess.run(): Chạy lệnh, chờ lệnh hoàn thành, và trả về đối tượng chứa thông tin như exit code.\n",
        "import subprocess\n",
        "subprocess.run(['dir'], shell=True)\n",
        "#subprocess.call(): Tương tự như run() nhưng chỉ trả về exit code.\n",
        "import subprocess\n",
        "exit_code = subprocess.call('dir', shell=True)\n",
        "#subprocess.Popen(): Để tương tác phức tạp hơn với process con, có thể đọc stdout và stderr.\n",
        "import subprocess\n",
        "\n",
        "process = subprocess.Popen('dir', stdout=subprocess.PIPE, stderr=subprocess.PIPE, shell=True)\n",
        "stdout, stderr = process.communicate()\n",
        "print(\"STDOUT:\", stdout.decode('cp437', errors='ignore'))\n",
        "print(\"STDERR:\", stderr.decode('cp437', errors='ignore'))\n",
        "\n",
        "#Ví dụ minh họa:\n",
        "#Chạy lệnh ping để kiểm tra kết nối đến \"www.google.com\" và lấy exit code.\n",
        "import subprocess\n",
        "address = \"www.google.com\"\n",
        "res = subprocess.call(['ping', '-c', '1', address])\n",
        "if res == 0:\n",
        "    print(f\"ping to {address} OK\")\n",
        "else:\n",
        "    print(f\"ping to {address} failed!\")\n",
        "\n",
        "\n",
        "### END CODE HERE ###"
      ]
    },
    {
      "cell_type": "markdown",
      "metadata": {
        "id": "hhjfyVN8i8Zi"
      },
      "source": [
        "#TÀI LIỆU THAM KHẢO\n",
        "\n",
        "https://www.python-course.eu/conditional_statements.php\n",
        "\n",
        "https://www.w3schools.com/python/python_conditions.asp\n",
        "\n",
        "https://jaxenter.com/differences-python-2-3-148432.html\n",
        "\n",
        "https://jaxenter.com/implement-switch-case-statement-python-138315.html\n",
        "\n",
        "https://www.geeksforgeeks.org/network-scanner-in-python/"
      ]
    }
  ],
  "metadata": {
    "kernelspec": {
      "display_name": "Python 3",
      "language": "python",
      "name": "python3"
    },
    "language_info": {
      "codemirror_mode": {
        "name": "ipython",
        "version": 3
      },
      "file_extension": ".py",
      "mimetype": "text/x-python",
      "name": "python",
      "nbconvert_exporter": "python",
      "pygments_lexer": "ipython3",
      "version": "3.10.8"
    },
    "colab": {
      "provenance": [],
      "include_colab_link": true
    }
  },
  "nbformat": 4,
  "nbformat_minor": 0
}